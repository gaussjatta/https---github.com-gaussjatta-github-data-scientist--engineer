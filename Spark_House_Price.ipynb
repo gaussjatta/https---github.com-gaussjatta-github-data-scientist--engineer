{
 "cells": [
  {
   "cell_type": "markdown",
   "id": "5c75f2e7",
   "metadata": {},
   "source": [
    "### Predicting House prices with Apache Spark"
   ]
  },
  {
   "cell_type": "markdown",
   "id": "774ef776",
   "metadata": {},
   "source": [
    "This dataset is not big. Using of Apache Spark is not necessary here. But we are going use it to show how can we use Pyspark to buil a machine learning model."
   ]
  },
  {
   "cell_type": "code",
   "execution_count": 5,
   "id": "25441fc8",
   "metadata": {},
   "outputs": [],
   "source": [
    "import pyspark\n",
    "from pyspark.sql import SparkSession"
   ]
  },
  {
   "cell_type": "code",
   "execution_count": 8,
   "id": "0448f8b9",
   "metadata": {},
   "outputs": [],
   "source": [
    "spark=SparkSession.builder.appName('Practise').getOrCreate()"
   ]
  },
  {
   "cell_type": "code",
   "execution_count": 9,
   "id": "bc6a5bc9",
   "metadata": {},
   "outputs": [
    {
     "data": {
      "text/html": [
       "\n",
       "            <div>\n",
       "                <p><b>SparkSession - in-memory</b></p>\n",
       "                \n",
       "        <div>\n",
       "            <p><b>SparkContext</b></p>\n",
       "\n",
       "            <p><a href=\"http://DESKTOP-UHR24HF.lan:4040\">Spark UI</a></p>\n",
       "\n",
       "            <dl>\n",
       "              <dt>Version</dt>\n",
       "                <dd><code>v3.3.1</code></dd>\n",
       "              <dt>Master</dt>\n",
       "                <dd><code>local[*]</code></dd>\n",
       "              <dt>AppName</dt>\n",
       "                <dd><code>Practise</code></dd>\n",
       "            </dl>\n",
       "        </div>\n",
       "        \n",
       "            </div>\n",
       "        "
      ],
      "text/plain": [
       "<pyspark.sql.session.SparkSession at 0x28f29c01e20>"
      ]
     },
     "execution_count": 9,
     "metadata": {},
     "output_type": "execute_result"
    }
   ],
   "source": [
    "spark"
   ]
  },
  {
   "cell_type": "code",
   "execution_count": 10,
   "id": "a7b527b9",
   "metadata": {},
   "outputs": [
    {
     "name": "stdout",
     "output_type": "stream",
     "text": [
      "+-----+\n",
      "|hello|\n",
      "+-----+\n",
      "|spark|\n",
      "+-----+\n",
      "\n"
     ]
    }
   ],
   "source": [
    "df= spark.sql('''select 'spark' as hello''')\n",
    "df.show()"
   ]
  },
  {
   "cell_type": "code",
   "execution_count": 11,
   "id": "b2962367",
   "metadata": {},
   "outputs": [],
   "source": [
    "df=spark.read.csv('cal_housing.data')"
   ]
  },
  {
   "cell_type": "code",
   "execution_count": 12,
   "id": "9340350c",
   "metadata": {},
   "outputs": [
    {
     "data": {
      "text/plain": [
       "DataFrame[_c0: string, _c1: string, _c2: string, _c3: string, _c4: string, _c5: string, _c6: string, _c7: string, _c8: string]"
      ]
     },
     "execution_count": 12,
     "metadata": {},
     "output_type": "execute_result"
    }
   ],
   "source": [
    "df"
   ]
  },
  {
   "cell_type": "code",
   "execution_count": 14,
   "id": "94fc5b32",
   "metadata": {},
   "outputs": [],
   "source": [
    "df=spark.read.option('header','true').csv('cal_housing.data')"
   ]
  },
  {
   "cell_type": "code",
   "execution_count": 15,
   "id": "67885f9a",
   "metadata": {},
   "outputs": [
    {
     "data": {
      "text/plain": [
       "DataFrame[-122.230000: string, 37.880000: string, 41.000000: string, 880.000000: string, 129.000000: string, 322.000000: string, 126.000000: string, 8.325200: string, 452600.000000: string]"
      ]
     },
     "execution_count": 15,
     "metadata": {},
     "output_type": "execute_result"
    }
   ],
   "source": [
    "df"
   ]
  },
  {
   "cell_type": "markdown",
   "id": "afea5c85",
   "metadata": {},
   "source": [
    "#### Understanding the Data Set"
   ]
  },
  {
   "cell_type": "markdown",
   "id": "dfd51ecd",
   "metadata": {},
   "source": [
    "The California Housing data set appeared in a 1997 paper titled Sparse Spatial Autoregressions, written by Pace, R. Kelley and Ronald Barry and published in the Statistics and Probability Letters journal. The researchers built this data set by using the 1990 California census data.\n",
    "\n",
    "The data contains one row per census block group. A block group is the smallest geographical unit for which the U.S. Census Bureau publishes sample data (a block group typically has a population of 600 to 3,000 people). In this sample a block group on average includes 1425.5 individuals living in a geographically compact area.\n",
    "\n",
    "These spatial data contain 20,640 observations on housing prices with 9 economic variables:"
   ]
  },
  {
   "cell_type": "markdown",
   "id": "ea9212ad",
   "metadata": {},
   "source": [
    "Longitude:refers to the angular distance of a geographic place north or south of the earth’s equator for each block group\n",
    "\n",
    "Latitude :refers to the angular distance of a geographic place east or west of the earth’s equator for each block group\n",
    "\n",
    "Housing Median Age:is the median age of the people that belong to a block group. Note that the median is the value that lies at the midpoint of a frequency distribution of observed values\n",
    "\n",
    "Total Rooms:is the total number of rooms in the houses per block group\n",
    "\n",
    "Total Bedrooms:is the total number of bedrooms in the houses per block group\n",
    "\n",
    "Population:is the number of inhabitants of a block group\n",
    "\n",
    "Households:refers to units of houses and their occupants per block group\n",
    "\n",
    "Median Income:is used to register the median income of people that belong to a block group\n",
    "\n",
    "Median House Value:is the dependent variable and refers to the median house value per block group"
   ]
  },
  {
   "cell_type": "code",
   "execution_count": 18,
   "id": "f75e41d1",
   "metadata": {},
   "outputs": [],
   "source": [
    "from pyspark.sql.types import*"
   ]
  },
  {
   "cell_type": "code",
   "execution_count": 19,
   "id": "ba91349f",
   "metadata": {},
   "outputs": [],
   "source": [
    "schema=StructType([StructField(\"long\", FloatType(), nullable=True),\n",
    "                  StructField(\"lat\", FloatType(), nullable=True),\n",
    "                  StructField(\"medage\", FloatType(), nullable=True),\n",
    "                  StructField(\"totrooms\", FloatType(), nullable=True),\n",
    "                  StructField(\"totbdrms\", FloatType(), nullable=True),\n",
    "                  StructField(\"pop\", FloatType(), nullable=True),\n",
    "                  StructField(\"houshlds\", FloatType(), nullable=True),\n",
    "                   StructField(\"medinc\", FloatType(), nullable=True),\n",
    "                   StructField(\"medhv\", FloatType(), nullable=True)\n",
    "                  ])"
   ]
  },
  {
   "cell_type": "code",
   "execution_count": 20,
   "id": "ac479538",
   "metadata": {},
   "outputs": [],
   "source": [
    "df=spark.read.csv(\"cal_housing.data\",schema)"
   ]
  },
  {
   "cell_type": "code",
   "execution_count": 21,
   "id": "3155033a",
   "metadata": {},
   "outputs": [
    {
     "data": {
      "text/plain": [
       "DataFrame[long: float, lat: float, medage: float, totrooms: float, totbdrms: float, pop: float, houshlds: float, medinc: float, medhv: float]"
      ]
     },
     "execution_count": 21,
     "metadata": {},
     "output_type": "execute_result"
    }
   ],
   "source": [
    "df"
   ]
  },
  {
   "cell_type": "code",
   "execution_count": 22,
   "id": "c9c6bc06",
   "metadata": {},
   "outputs": [
    {
     "name": "stdout",
     "output_type": "stream",
     "text": [
      "+-------+-----+------+--------+--------+------+--------+------+--------+\n",
      "|   long|  lat|medage|totrooms|totbdrms|   pop|houshlds|medinc|   medhv|\n",
      "+-------+-----+------+--------+--------+------+--------+------+--------+\n",
      "|-122.23|37.88|  41.0|   880.0|   129.0| 322.0|   126.0|8.3252|452600.0|\n",
      "|-122.22|37.86|  21.0|  7099.0|  1106.0|2401.0|  1138.0|8.3014|358500.0|\n",
      "|-122.24|37.85|  52.0|  1467.0|   190.0| 496.0|   177.0|7.2574|352100.0|\n",
      "|-122.25|37.85|  52.0|  1274.0|   235.0| 558.0|   219.0|5.6431|341300.0|\n",
      "|-122.25|37.85|  52.0|  1627.0|   280.0| 565.0|   259.0|3.8462|342200.0|\n",
      "|-122.25|37.85|  52.0|   919.0|   213.0| 413.0|   193.0|4.0368|269700.0|\n",
      "|-122.25|37.84|  52.0|  2535.0|   489.0|1094.0|   514.0|3.6591|299200.0|\n",
      "|-122.25|37.84|  52.0|  3104.0|   687.0|1157.0|   647.0|  3.12|241400.0|\n",
      "|-122.26|37.84|  42.0|  2555.0|   665.0|1206.0|   595.0|2.0804|226700.0|\n",
      "|-122.25|37.84|  52.0|  3549.0|   707.0|1551.0|   714.0|3.6912|261100.0|\n",
      "|-122.26|37.85|  52.0|  2202.0|   434.0| 910.0|   402.0|3.2031|281500.0|\n",
      "|-122.26|37.85|  52.0|  3503.0|   752.0|1504.0|   734.0|3.2705|241800.0|\n",
      "|-122.26|37.85|  52.0|  2491.0|   474.0|1098.0|   468.0| 3.075|213500.0|\n",
      "|-122.26|37.84|  52.0|   696.0|   191.0| 345.0|   174.0|2.6736|191300.0|\n",
      "|-122.26|37.85|  52.0|  2643.0|   626.0|1212.0|   620.0|1.9167|159200.0|\n",
      "|-122.26|37.85|  50.0|  1120.0|   283.0| 697.0|   264.0| 2.125|140000.0|\n",
      "|-122.27|37.85|  52.0|  1966.0|   347.0| 793.0|   331.0| 2.775|152500.0|\n",
      "|-122.27|37.85|  52.0|  1228.0|   293.0| 648.0|   303.0|2.1202|155500.0|\n",
      "|-122.26|37.84|  50.0|  2239.0|   455.0| 990.0|   419.0|1.9911|158700.0|\n",
      "|-122.27|37.84|  52.0|  1503.0|   298.0| 690.0|   275.0|2.6033|162900.0|\n",
      "+-------+-----+------+--------+--------+------+--------+------+--------+\n",
      "only showing top 20 rows\n",
      "\n"
     ]
    }
   ],
   "source": [
    "df.show()"
   ]
  },
  {
   "cell_type": "code",
   "execution_count": 25,
   "id": "469651c0",
   "metadata": {},
   "outputs": [
    {
     "name": "stdout",
     "output_type": "stream",
     "text": [
      "-RECORD 0------------\n",
      " long     | -122.23  \n",
      " lat      | 37.88    \n",
      " medage   | 41.0     \n",
      " totrooms | 880.0    \n",
      " totbdrms | 129.0    \n",
      " pop      | 322.0    \n",
      " houshlds | 126.0    \n",
      " medinc   | 8.3252   \n",
      " medhv    | 452600.0 \n",
      "-RECORD 1------------\n",
      " long     | -122.22  \n",
      " lat      | 37.86    \n",
      " medage   | 21.0     \n",
      " totrooms | 7099.0   \n",
      " totbdrms | 1106.0   \n",
      " pop      | 2401.0   \n",
      " houshlds | 1138.0   \n",
      " medinc   | 8.3014   \n",
      " medhv    | 358500.0 \n",
      "-RECORD 2------------\n",
      " long     | -122.24  \n",
      " lat      | 37.85    \n",
      " medage   | 52.0     \n",
      " totrooms | 1467.0   \n",
      " totbdrms | 190.0    \n",
      " pop      | 496.0    \n",
      " houshlds | 177.0    \n",
      " medinc   | 7.2574   \n",
      " medhv    | 352100.0 \n",
      "-RECORD 3------------\n",
      " long     | -122.25  \n",
      " lat      | 37.85    \n",
      " medage   | 52.0     \n",
      " totrooms | 1274.0   \n",
      " totbdrms | 235.0    \n",
      " pop      | 558.0    \n",
      " houshlds | 219.0    \n",
      " medinc   | 5.6431   \n",
      " medhv    | 341300.0 \n",
      "-RECORD 4------------\n",
      " long     | -122.25  \n",
      " lat      | 37.85    \n",
      " medage   | 52.0     \n",
      " totrooms | 1627.0   \n",
      " totbdrms | 280.0    \n",
      " pop      | 565.0    \n",
      " houshlds | 259.0    \n",
      " medinc   | 3.8462   \n",
      " medhv    | 342200.0 \n",
      "only showing top 5 rows\n",
      "\n"
     ]
    }
   ],
   "source": [
    "df.show(5,vertical=True)"
   ]
  },
  {
   "cell_type": "code",
   "execution_count": 23,
   "id": "b0316de0",
   "metadata": {},
   "outputs": [
    {
     "name": "stdout",
     "output_type": "stream",
     "text": [
      "root\n",
      " |-- long: float (nullable = true)\n",
      " |-- lat: float (nullable = true)\n",
      " |-- medage: float (nullable = true)\n",
      " |-- totrooms: float (nullable = true)\n",
      " |-- totbdrms: float (nullable = true)\n",
      " |-- pop: float (nullable = true)\n",
      " |-- houshlds: float (nullable = true)\n",
      " |-- medinc: float (nullable = true)\n",
      " |-- medhv: float (nullable = true)\n",
      "\n"
     ]
    }
   ],
   "source": [
    "df.printSchema()"
   ]
  },
  {
   "cell_type": "code",
   "execution_count": 24,
   "id": "8107f083",
   "metadata": {},
   "outputs": [
    {
     "data": {
      "text/plain": [
       "['long',\n",
       " 'lat',\n",
       " 'medage',\n",
       " 'totrooms',\n",
       " 'totbdrms',\n",
       " 'pop',\n",
       " 'houshlds',\n",
       " 'medinc',\n",
       " 'medhv']"
      ]
     },
     "execution_count": 24,
     "metadata": {},
     "output_type": "execute_result"
    }
   ],
   "source": [
    "df.columns"
   ]
  },
  {
   "cell_type": "markdown",
   "id": "9b728e80",
   "metadata": {},
   "source": [
    "#### Data Exploration"
   ]
  },
  {
   "cell_type": "code",
   "execution_count": 32,
   "id": "4b486479",
   "metadata": {},
   "outputs": [
    {
     "name": "stdout",
     "output_type": "stream",
     "text": [
      "+-------+-----+------+\n",
      "|   long|  lat|medage|\n",
      "+-------+-----+------+\n",
      "|-122.23|37.88|  41.0|\n",
      "|-122.22|37.86|  21.0|\n",
      "|-122.24|37.85|  52.0|\n",
      "|-122.25|37.85|  52.0|\n",
      "|-122.25|37.85|  52.0|\n",
      "+-------+-----+------+\n",
      "only showing top 5 rows\n",
      "\n"
     ]
    }
   ],
   "source": [
    "df.select(['long','lat','medage']).show(5)"
   ]
  },
  {
   "cell_type": "code",
   "execution_count": null,
   "id": "df801462",
   "metadata": {},
   "outputs": [],
   "source": []
  }
 ],
 "metadata": {
  "kernelspec": {
   "display_name": "Python 3",
   "language": "python",
   "name": "python3"
  },
  "language_info": {
   "codemirror_mode": {
    "name": "ipython",
    "version": 3
   },
   "file_extension": ".py",
   "mimetype": "text/x-python",
   "name": "python",
   "nbconvert_exporter": "python",
   "pygments_lexer": "ipython3",
   "version": "3.8.8"
  }
 },
 "nbformat": 4,
 "nbformat_minor": 5
}
