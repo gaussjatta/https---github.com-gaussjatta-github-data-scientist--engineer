{
 "cells": [
  {
   "cell_type": "markdown",
   "metadata": {},
   "source": [
    "<font size=\"6\"><center>Big data</center></font><center><br>\n",
    "<font size=\"5\"><center><strong>  Risque empirique er risque de population</strong></center></font>"
   ]
  },
  {
   "cell_type": "markdown",
   "metadata": {},
   "source": [
    "Le compromis entre complexité des modèles et nombre de données est au centre de la problématique de l'apprentissage statistique. Dans ce TP, nous allons illustrer cette problématique sur un problème jouet de reconnaissance de forme.\n",
    "\n",
    "Le problème est le suivant: on considère un ensemble $ A \\subset[0,1]^{2} $. On suppose que $ X $ est une variable uniforme sur $[0,1]^{2}$ et que la classe $ Y$ de $ X $ est donnée par $ Y = \\mathbb{1}_{A}(X)$. On dispose d'un l-échantillon d'apprentissage \n",
    "$$\n",
    "                    ((x_{1},x_{1}), ... , (x_{l},x_{l}))\n",
    "$$\n",
    "\n",
    "de loi (X,Y). Il s'agit au vu de cet échantillon de choisir une fonction $ \\hat{h} : [0,1]^{2} \\longrightarrow \\{-1, 1 \\} $ pour laquelle la classe Y de X est bien prédite par $ \\hat{h}(X)$.\n",
    "\n",
    "On définit une famille de modèles de  modèles $ (F_{p})_{p \\in \\mathbb{N}}$ de la façon suivante: pour tout  $ p \\in \\mathbb{N^{*}} $, on considère le découpage en $p^{2}$ carreaux $(c_{i,j})_{ 1 \\leq i,j \\leq p }$ de $ [0,1]^{2} $où \n",
    "\n",
    "$$\n",
    "                   c_{ij} = [\\frac{i-1}{p}, \\frac{i}{p} ] \\times [\\frac{j-1}{p}, \\frac{j}{p} ]\n",
    "$$\n",
    "\n",
    "La famille $ F_{p} $ est alors définie comme la famille des classifieurs $ g = \\mathbb{1}_{C} $ pour lequel C est constitué d'une réunion finie (éventuellement vide ) de carreaux $c_{ij}$\n",
    "\n",
    "On définit le risque empirique et le risque de population à l'aide de la fonction de perte $ L(y,y^{'}) = \\mathbb{1}_{y \\neq y'} $ avec :\n",
    "$$ \\mathbb{1}_{C}:\\left\\{\\begin{array}{l}\n",
    "1 ~~\\mbox{ si C est vraie }  \\\\ \n",
    "0 ~~ \\mbox{sinon  } ,\n",
    "\\end{array}\\right.\n",
    "$$\n",
    "\n",
    "On a donc pour tout $ g \\in F_{p}$ \n",
    "\n",
    "$$\n",
    "                  R_{emp}(g) = \\frac{1}{l} \\sum_{i=1}^l \\mathbb{1}_{g(x_{i}) \\neq y_{i}}\n",
    "$$                  \n",
    "\n",
    "$$\n",
    "                 R(g)  = E(\\mathbb{1}_{g(X) \\neq Y})\n",
    "$$ \n",
    "\n",
    "$$\n",
    "                \\hat{R}^{*}_{p} = \\min_{g \\in F_{p}} R_{emp}(g)\n",
    "$$"
   ]
  },
  {
   "cell_type": "markdown",
   "metadata": {},
   "source": [
    "# Expérience 1"
   ]
  },
  {
   "cell_type": "markdown",
   "metadata": {},
   "source": [
    "Importation des librairies utilisées :"
   ]
  },
  {
   "cell_type": "code",
   "execution_count": 2,
   "metadata": {},
   "outputs": [],
   "source": [
    "import numpy as np\n",
    "import numpy.random as npr\n",
    "import matplotlib\n",
    "import matplotlib.pyplot as plt"
   ]
  },
  {
   "cell_type": "markdown",
   "metadata": {},
   "source": [
    "On veut ici implémenter en python le calcul de $\\hat{C}_{p} $ et mesurer la différence  entre le $R_{emp}(\\mathbb{1}_{\\hat{C}_{p}}) $ évalué sur l'échantillon et le risque de population $R(\\mathbb{1}_{\\hat{C}_{p}}) $\n",
    "\n",
    "L'ensemble $ A $ de départ est construit comme un ensemble de niveau d'une fonction $ f_{g,s}$ définie par :\n",
    "\n",
    "$$\n",
    "     f_{g,s}(x) = \\sum_{i=1}^{n} \\exp(-\\frac{|x - g_{i}|^{2}}{2 s_{i}^{2}})\n",
    "$$\n",
    "\n",
    "avec $ g = (g_{i)_{1\\leq i \\leq n}}$ est une famille de points tirés au hasard uniformément dans le carrée $ [0.2,0.8]^{2} $ et $ s = (s_{i)_{1\\leq i \\leq n}}$ est une famille de paramètres positifs tirés au hasard uniforméménet dans l'intervalles $[0,a]$. On définit alors:\n",
    "\n",
    "$$\n",
    "A = \\{ x \\in [0,1]^{2} : f_{g,s}(x) \\geq \\frac{1}{2} \\}\n",
    "$$\n",
    "\n",
    "Le jeu sur le nombre $n$ de points  et sur la valeur de $ a$  permet de construire des ensembles A de formes variées."
   ]
  },
  {
   "cell_type": "markdown",
   "metadata": {},
   "source": [
    "**1 - On écrit une fonction Y = intens(X1,X2,g,s) qui retourne la classe Y des points de $[0,1]^{2}$ dont les deux coordonées sur chacun des axes sont données respectivement par les tableaux X1, X2.**"
   ]
  },
  {
   "cell_type": "code",
   "execution_count": 3,
   "metadata": {},
   "outputs": [],
   "source": [
    "def intens(X1,X2,g,s):\n",
    "    I=np.zeros(np.shape(X1))-1\n",
    "    for i in range(len(X1)):\n",
    "        fxy=0\n",
    "        for j in range(len(g)):\n",
    "            fxy+=np.exp(-((X1[i]-g[j,0])**2+(X2[i]-g[j,1])**2)/(2*s[j]**2))\n",
    "        if fxy>0.5 :\n",
    "            I[i]=1\n",
    "    return I"
   ]
  },
  {
   "cell_type": "markdown",
   "metadata": {},
   "source": [
    "**2 - On définit une fonction appelée esnalea(n,a,flag) qui retourne un tirage de g et s en fonction de n et a. Si la variable flag vaut 1 alors un affichage grossier de A est effectué.**"
   ]
  },
  {
   "cell_type": "code",
   "execution_count": 4,
   "metadata": {},
   "outputs": [],
   "source": [
    "def ensalea(n,a,flag=1):\n",
    "    g=npr.rand(n,2)*(0.8-0.2)+0.2\n",
    "    s=npr.rand(n)*a\n",
    "    if flag==1:\n",
    "        sub=200\n",
    "        X1,X2 = np.mgrid[0:1:1/sub, 0:1:1/sub]\n",
    "        Y=intens(np.concatenate(X1),np.concatenate(X2),g,s)\n",
    "        Y=Y.reshape((sub,sub))\n",
    "        plt.imshow(Y)\n",
    "    \n",
    "    return g,s"
   ]
  },
  {
   "cell_type": "markdown",
   "metadata": {},
   "source": [
    "**3 - En utilisant la fonction `ensalea`, on génère un ensemble A qu'on utilisera par la suite. On choisit $ n = 4 $ et $ a  = 0.3 $  qui donnent des ensembles A raisonnables.**"
   ]
  },
  {
   "cell_type": "code",
   "execution_count": 5,
   "metadata": {},
   "outputs": [
    {
     "data": {
      "image/png": "[encoded data removed]",
      "text/plain": [
       "<Figure size 432x288 with 1 Axes>"
      ]
     },
     "metadata": {
      "needs_background": "light"
     },
     "output_type": "display_data"
    }
   ],
   "source": [
    "npr.seed(5)\n",
    "\n",
    "g,s=ensalea(4,0.3,1)"
   ]
  },
  {
   "cell_type": "markdown",
   "metadata": {},
   "source": [
    "**4- On  construit une fonction nommée $  echant(l,g,s) $ qui retourne une réaisation d'un l-échantillon d'apprentissage $(X_{i}, Y_{i} )$ avec i $\\in [1,l]$ et $X_{i} = (X1(i), X2(i))$ et $ Y_{i} = Y(i)$.**"
   ]
  },
  {
   "cell_type": "code",
   "execution_count": 8,
   "metadata": {},
   "outputs": [],
   "source": [
    "def echant(l,g,s):\n",
    "    X1=npr.rand(l)\n",
    "    X2=npr.rand(l)\n",
    "    Y=intens(X1,X2,g,s)\n",
    "    return X1,X2,Y\n",
    "\n",
    "X1,X2,Y=echant(1000,g,s)"
   ]
  },
  {
   "cell_type": "markdown",
   "metadata": {},
   "source": [
    "**5 -  On construit la fonction $ [B, Re] = estens(X1, X2, Y , p) $ qui pour tout échantillon d'apprentissage $[X1,X2,Y ]$ et toute valeur de $ p \\in \\mathbb{N^{*}} $ renvoie une matrice B de taille $ p \\times p $ et un scalaire Re définis par :\n",
    "$$\n",
    "B(i,j) =  1 ~~ si ~~  \\hat{l}^{+}_{ij} \\geq \\hat{l}^{-}_{ij} ~~ et ~~ 0 ~~ sinon.\n",
    "$$\n",
    "$$\n",
    "Re = \\hat{R}^{*}_{p} \n",
    "$$**"
   ]
  },
  {
   "cell_type": "code",
   "execution_count": 9,
   "metadata": {},
   "outputs": [],
   "source": [
    "def estens(X1,X2,Y,p):\n",
    "    B=np.zeros((p,p))\n",
    "    for i,x in enumerate(X1) :\n",
    "        y=X2[i]\n",
    "        B[int(p*x),int(p*y)]+=Y[i]\n",
    "    B=1*(B>0)\n",
    "    \n",
    "    Re=0\n",
    "    for i,x in enumerate(X1) :\n",
    "        y=X2[i]\n",
    "        if B[int(p*x),int(p*y)]!=max(Y[i],0):\n",
    "            Re+=1\n",
    "    Re/=len(X1)\n",
    "    \n",
    "    return B,Re"
   ]
  },
  {
   "cell_type": "code",
   "execution_count": 11,
   "metadata": {
    "scrolled": false
   },
   "outputs": [
    {
     "name": "stdout",
     "output_type": "stream",
     "text": [
      "[[0 0 0 0 0]\n",
      " [0 0 0 1 0]\n",
      " [0 0 1 1 0]\n",
      " [0 1 1 1 0]\n",
      " [0 0 1 0 0]]\n",
      "0.1\n"
     ]
    }
   ],
   "source": [
    "B,Re=estens(X1,X2,Y,5)\n",
    "\n",
    "print(B)\n",
    "print(Re)"
   ]
  },
  {
   "cell_type": "markdown",
   "metadata": {},
   "source": [
    "**6 - On construit une fonction nommée $testens$ $(B,m,g,s) $ \n",
    "qui approximent la valeur de $R(\\mathbb{1}_{\\hat{C}_{p}}) $ par $R'_{emp}(\\mathbb{1}_{\\hat{C}_{p}})$ sur un échantillon $(X'_{i}, Y'_{i})$  indépendant de l'échantillon d'apprentissage $(X_{i}, Y_{i})_{1\\leq i \\leq l}$.**"
   ]
  },
  {
   "cell_type": "code",
   "execution_count": 12,
   "metadata": {},
   "outputs": [
    {
     "name": "stdout",
     "output_type": "stream",
     "text": [
      "0.097\n"
     ]
    }
   ],
   "source": [
    "def testens(B,m,g,s):\n",
    "    p=np.shape(B)[0]\n",
    "    \n",
    "    X1=npr.rand(m)\n",
    "    X2=npr.rand(m)\n",
    "    Y=intens(X1,X2,g,s)\n",
    "    \n",
    "    R=0\n",
    "    for i,x in enumerate(X1) :\n",
    "        y=X2[i]\n",
    "        if B[int(p*x),int(p*y)]!=max(Y[i],0):\n",
    "            R+=1\n",
    "    R/=m\n",
    "    \n",
    "    return R\n",
    "\n",
    "R=testens(B,1000,g,s)\n",
    "print(R)"
   ]
  },
  {
   "cell_type": "markdown",
   "metadata": {},
   "source": [
    "**7- Pour chaque valeur de l, on trace sur le meme graphique les courbes $ p \\rightarrow  \\hat{R}^{*}_{p}$ et $ p \\rightarrow R'_{emp}(\\mathbb(1_{\\hat{C}_{p}}) $ pour des valeurs de p  entre 2 et 60.**"
   ]
  },
  {
   "cell_type": "code",
   "execution_count": 20,
   "metadata": {},
   "outputs": [
    {
     "data": {
      "image/png": "[encoded data removed]",
      "text/plain": [
       "<Figure size 432x288 with 1 Axes>"
      ]
     },
     "metadata": {
      "needs_background": "light"
     },
     "output_type": "display_data"
    },
    {
     "name": "stdout",
     "output_type": "stream",
     "text": [
      "l= 100 ,p_chap minimisant R : 8\n"
     ]
    },
    {
     "data": {
      "image/png": "[encoded data removed]",
      "text/plain": [
       "<Figure size 432x288 with 1 Axes>"
      ]
     },
     "metadata": {
      "needs_background": "light"
     },
     "output_type": "display_data"
    },
    {
     "name": "stdout",
     "output_type": "stream",
     "text": [
      "l= 500 ,p_chap minimisant R : 12\n"
     ]
    },
    {
     "data": {
      "image/png": "[encoded data removed]",
      "text/plain": [
       "<Figure size 432x288 with 1 Axes>"
      ]
     },
     "metadata": {
      "needs_background": "light"
     },
     "output_type": "display_data"
    },
    {
     "name": "stdout",
     "output_type": "stream",
     "text": [
      "l= 1000 ,p_chap minimisant R : 14\n"
     ]
    },
    {
     "data": {
      "image/png": "[encoded data removed]",
      "text/plain": [
       "<Figure size 432x288 with 1 Axes>"
      ]
     },
     "metadata": {
      "needs_background": "light"
     },
     "output_type": "display_data"
    },
    {
     "name": "stdout",
     "output_type": "stream",
     "text": [
      "l= 10000 ,p_chap minimisant R : 50\n"
     ]
    }
   ],
   "source": [
    "p_list=np.arange(2,60,2)\n",
    "m=10000 #plus m est grand, plus c'est stable (LGN)\n",
    "\n",
    "for l in [100,500,1000,10000]:\n",
    "    Re_list=np.array([])\n",
    "    R_list=np.array([])\n",
    "    for p in p_list:\n",
    "        X1,X2,Y=echant(l,g,s)\n",
    "        B,Re=estens(X1,X2,Y,p)\n",
    "        R=testens(B,m,g,s)\n",
    "        \n",
    "        Re_list=np.append(Re_list,Re)\n",
    "        R_list=np.append(R_list,R)\n",
    "    plt.title(\"l=\"+str(l))\n",
    "    plt.plot(p_list,Re_list,label=\"Re\")\n",
    "    plt.plot(p_list,R_list,label=\"R\")\n",
    "    plt.legend()\n",
    "    plt.show()\n",
    "    print(\"l=\",l,\",p_chap minimisant R :\",2*np.argmin(R_list)+2)"
   ]
  },
  {
   "cell_type": "markdown",
   "metadata": {},
   "source": [
    "Pour l=100, on a $\\hat{p}=8$<br>\n",
    "Pour l=500, on a $\\hat{p}=12$<br>\n",
    "Pour l=1000, on a $\\hat{p}=14$<br>\n",
    "Pour l=10000, on a $\\hat{p}=50$<br>"
   ]
  },
  {
   "cell_type": "markdown",
   "metadata": {},
   "source": [
    "**8- On commente ci-dessous les résultats.**"
   ]
  },
  {
   "cell_type": "markdown",
   "metadata": {},
   "source": [
    "Pour l fixé et p variant, on voit que le risque empirique tend vers 0 ce qui est normal puisque une subdivision très fine de l'espace permet à ce qu'il y ai souvent au maximum un échantillon par carreaux de la subdivision, ce qui se traduit par une erreur nulle sur l'échantillon d'apprentissage.<br>\n",
    "Par contre, pour l'échantillon de test, une subdivision très fine de l'espace veut dire que sur les carreaux occupés par les échantillons de test, très peux sont aussi occupés par des échantillons d'apprentissage. Ceci provoque une inconnue et donc une hausse de l'erreur."
   ]
  },
  {
   "cell_type": "markdown",
   "metadata": {},
   "source": [
    "On voit que plus l augmente et plus $\\hat{p}$ augmente aussi. Ceci est normal puisque pour en revenir à l'explication précédente, plus on aurra d'échantillons d'apprentissage et plus on pourra subdiviser l'espace avant que le nombre trop important d'inconnues sur les carreaux occupés par les échantillon de test augmente l'erreur."
   ]
  },
  {
   "cell_type": "markdown",
   "metadata": {},
   "source": [
    "A p fixé, on obtient de meilleurs résultats pour l important puisqu'on a plus d'échantillon d'apprentissage."
   ]
  },
  {
   "cell_type": "markdown",
   "metadata": {},
   "source": [
    "Finallement, cette expérience nous permet de voir qu'on doit prendre en compte la taille de l'échantillon d'apprentisage pour choisir la compléxité du modèle. Puisqu'un modèle trop complexe vis à vis de la taille de l'échantillon d'apprentisage laissera beaucoup \"d'inconnues\" sur un nouvel échantillon de test."
   ]
  }
 ],
 "metadata": {
  "kernelspec": {
   "display_name": "Python 3",
   "language": "python",
   "name": "python3"
  },
  "language_info": {
   "codemirror_mode": {
    "name": "ipython",
    "version": 3
   },
   "file_extension": ".py",
   "mimetype": "text/x-python",
   "name": "python",
   "nbconvert_exporter": "python",
   "pygments_lexer": "ipython3",
   "version": "3.8.8"
  }
 },
 "nbformat": 4,
 "nbformat_minor": 4
}
