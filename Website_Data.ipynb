{
 "cells": [
  {
   "cell_type": "markdown",
   "id": "dcc5216a",
   "metadata": {},
   "source": [
    "### Data from WEB"
   ]
  },
  {
   "cell_type": "code",
   "execution_count": 9,
   "id": "2ffa6a08",
   "metadata": {},
   "outputs": [],
   "source": [
    "#!pip install requests"
   ]
  },
  {
   "cell_type": "code",
   "execution_count": 21,
   "id": "737c6871",
   "metadata": {},
   "outputs": [],
   "source": [
    "import requests\n",
    "import pandas as pd"
   ]
  },
  {
   "cell_type": "markdown",
   "id": "c1eb9049",
   "metadata": {},
   "source": [
    "curl \"https://api.cryptowat.ch/markets/kraken/btceur/price\""
   ]
  },
  {
   "cell_type": "code",
   "execution_count": 5,
   "id": "ae56f5c9",
   "metadata": {},
   "outputs": [
    {
     "name": "stdout",
     "output_type": "stream",
     "text": [
      "Help on package requests:\n",
      "\n",
      "NAME\n",
      "    requests\n",
      "\n",
      "DESCRIPTION\n",
      "    Requests HTTP Library\n",
      "    ~~~~~~~~~~~~~~~~~~~~~\n",
      "    \n",
      "    Requests is an HTTP library, written in Python, for human beings.\n",
      "    Basic GET usage:\n",
      "    \n",
      "       >>> import requests\n",
      "       >>> r = requests.get('https://www.python.org')\n",
      "       >>> r.status_code\n",
      "       200\n",
      "       >>> b'Python is a programming language' in r.content\n",
      "       True\n",
      "    \n",
      "    ... or POST:\n",
      "    \n",
      "       >>> payload = dict(key1='value1', key2='value2')\n",
      "       >>> r = requests.post('https://httpbin.org/post', data=payload)\n",
      "       >>> print(r.text)\n",
      "       {\n",
      "         ...\n",
      "         \"form\": {\n",
      "           \"key1\": \"value1\",\n",
      "           \"key2\": \"value2\"\n",
      "         },\n",
      "         ...\n",
      "       }\n",
      "    \n",
      "    The other HTTP methods are supported - see `requests.api`. Full documentation\n",
      "    is at <https://requests.readthedocs.io>.\n",
      "    \n",
      "    :copyright: (c) 2017 by Kenneth Reitz.\n",
      "    :license: Apache 2.0, see LICENSE for more details.\n",
      "\n",
      "PACKAGE CONTENTS\n",
      "    __version__\n",
      "    _internal_utils\n",
      "    adapters\n",
      "    api\n",
      "    auth\n",
      "    certs\n",
      "    compat\n",
      "    cookies\n",
      "    exceptions\n",
      "    help\n",
      "    hooks\n",
      "    models\n",
      "    packages\n",
      "    sessions\n",
      "    status_codes\n",
      "    structures\n",
      "    utils\n",
      "\n",
      "FUNCTIONS\n",
      "    check_compatibility(urllib3_version, chardet_version, charset_normalizer_version)\n",
      "\n",
      "DATA\n",
      "    __author_email__ = 'me@kennethreitz.org'\n",
      "    __build__ = 141313\n",
      "    __cake__ = '✨ 🍰 ✨'\n",
      "    __copyright__ = 'Copyright 2022 Kenneth Reitz'\n",
      "    __description__ = 'Python HTTP for Humans.'\n",
      "    __license__ = 'Apache 2.0'\n",
      "    __title__ = 'requests'\n",
      "    __url__ = 'https://requests.readthedocs.io'\n",
      "    chardet_version = None\n",
      "    charset_normalizer_version = '2.1.1'\n",
      "    codes = <lookup 'status_codes'>\n",
      "\n",
      "VERSION\n",
      "    2.28.1\n",
      "\n",
      "AUTHOR\n",
      "    Kenneth Reitz\n",
      "\n",
      "FILE\n",
      "    c:\\users\\moi\\anaconda3\\envs\\sql\\lib\\site-packages\\requests\\__init__.py\n",
      "\n",
      "\n"
     ]
    }
   ],
   "source": [
    "help(requests)"
   ]
  },
  {
   "cell_type": "code",
   "execution_count": 16,
   "id": "937881fa",
   "metadata": {},
   "outputs": [],
   "source": [
    "response = requests.get('https://api.github.com/')\n",
    " \n",
    "# print response\n",
    "response.raise_for_status()\n",
    "data=response.json()"
   ]
  },
  {
   "cell_type": "code",
   "execution_count": 17,
   "id": "8fb42b70",
   "metadata": {},
   "outputs": [
    {
     "name": "stdout",
     "output_type": "stream",
     "text": [
      "{'current_user_url': 'https://api.github.com/user', 'current_user_authorizations_html_url': 'https://github.com/settings/connections/applications{/client_id}', 'authorizations_url': 'https://api.github.com/authorizations', 'code_search_url': 'https://api.github.com/search/code?q={query}{&page,per_page,sort,order}', 'commit_search_url': 'https://api.github.com/search/commits?q={query}{&page,per_page,sort,order}', 'emails_url': 'https://api.github.com/user/emails', 'emojis_url': 'https://api.github.com/emojis', 'events_url': 'https://api.github.com/events', 'feeds_url': 'https://api.github.com/feeds', 'followers_url': 'https://api.github.com/user/followers', 'following_url': 'https://api.github.com/user/following{/target}', 'gists_url': 'https://api.github.com/gists{/gist_id}', 'hub_url': 'https://api.github.com/hub', 'issue_search_url': 'https://api.github.com/search/issues?q={query}{&page,per_page,sort,order}', 'issues_url': 'https://api.github.com/issues', 'keys_url': 'https://api.github.com/user/keys', 'label_search_url': 'https://api.github.com/search/labels?q={query}&repository_id={repository_id}{&page,per_page}', 'notifications_url': 'https://api.github.com/notifications', 'organization_url': 'https://api.github.com/orgs/{org}', 'organization_repositories_url': 'https://api.github.com/orgs/{org}/repos{?type,page,per_page,sort}', 'organization_teams_url': 'https://api.github.com/orgs/{org}/teams', 'public_gists_url': 'https://api.github.com/gists/public', 'rate_limit_url': 'https://api.github.com/rate_limit', 'repository_url': 'https://api.github.com/repos/{owner}/{repo}', 'repository_search_url': 'https://api.github.com/search/repositories?q={query}{&page,per_page,sort,order}', 'current_user_repositories_url': 'https://api.github.com/user/repos{?type,page,per_page,sort}', 'starred_url': 'https://api.github.com/user/starred{/owner}{/repo}', 'starred_gists_url': 'https://api.github.com/gists/starred', 'topic_search_url': 'https://api.github.com/search/topics?q={query}{&page,per_page}', 'user_url': 'https://api.github.com/users/{user}', 'user_organizations_url': 'https://api.github.com/user/orgs', 'user_repositories_url': 'https://api.github.com/users/{user}/repos{?type,page,per_page,sort}', 'user_search_url': 'https://api.github.com/search/users?q={query}{&page,per_page,sort,order}'}\n"
     ]
    }
   ],
   "source": [
    "print(data)"
   ]
  },
  {
   "cell_type": "code",
   "execution_count": 12,
   "id": "85ccd4e0",
   "metadata": {},
   "outputs": [
    {
     "name": "stdout",
     "output_type": "stream",
     "text": [
      "<Response [404]>\n"
     ]
    },
    {
     "ename": "HTTPError",
     "evalue": "404 Client Error: Not Found for url: https://www.geeksforgeeks.org/naveen/",
     "output_type": "error",
     "traceback": [
      "\u001b[1;31m---------------------------------------------------------------------------\u001b[0m",
      "\u001b[1;31mHTTPError\u001b[0m                                 Traceback (most recent call last)",
      "Cell \u001b[1;32mIn [12], line 6\u001b[0m\n\u001b[0;32m      3\u001b[0m \u001b[38;5;28mprint\u001b[39m(response)\n\u001b[0;32m      5\u001b[0m \u001b[38;5;66;03m# print check if an error has occurred\u001b[39;00m\n\u001b[1;32m----> 6\u001b[0m \u001b[38;5;28mprint\u001b[39m(\u001b[43mresponse\u001b[49m\u001b[38;5;241;43m.\u001b[39;49m\u001b[43mraise_for_status\u001b[49m\u001b[43m(\u001b[49m\u001b[43m)\u001b[49m)\n",
      "File \u001b[1;32m~\\anaconda3\\envs\\sql\\lib\\site-packages\\requests\\models.py:1021\u001b[0m, in \u001b[0;36mResponse.raise_for_status\u001b[1;34m(self)\u001b[0m\n\u001b[0;32m   1016\u001b[0m     http_error_msg \u001b[38;5;241m=\u001b[39m (\n\u001b[0;32m   1017\u001b[0m         \u001b[38;5;124mf\u001b[39m\u001b[38;5;124m\"\u001b[39m\u001b[38;5;132;01m{\u001b[39;00m\u001b[38;5;28mself\u001b[39m\u001b[38;5;241m.\u001b[39mstatus_code\u001b[38;5;132;01m}\u001b[39;00m\u001b[38;5;124m Server Error: \u001b[39m\u001b[38;5;132;01m{\u001b[39;00mreason\u001b[38;5;132;01m}\u001b[39;00m\u001b[38;5;124m for url: \u001b[39m\u001b[38;5;132;01m{\u001b[39;00m\u001b[38;5;28mself\u001b[39m\u001b[38;5;241m.\u001b[39murl\u001b[38;5;132;01m}\u001b[39;00m\u001b[38;5;124m\"\u001b[39m\n\u001b[0;32m   1018\u001b[0m     )\n\u001b[0;32m   1020\u001b[0m \u001b[38;5;28;01mif\u001b[39;00m http_error_msg:\n\u001b[1;32m-> 1021\u001b[0m     \u001b[38;5;28;01mraise\u001b[39;00m HTTPError(http_error_msg, response\u001b[38;5;241m=\u001b[39m\u001b[38;5;28mself\u001b[39m)\n",
      "\u001b[1;31mHTTPError\u001b[0m: 404 Client Error: Not Found for url: https://www.geeksforgeeks.org/naveen/"
     ]
    }
   ],
   "source": [
    "response = requests.get('https://geeksforgeeks.org/naveen/')\n",
    "\n",
    "print(response)\n",
    " \n",
    "# print check if an error has occurred\n",
    "print(response.raise_for_status())"
   ]
  },
  {
   "cell_type": "code",
   "execution_count": 31,
   "id": "82b16952",
   "metadata": {},
   "outputs": [],
   "source": [
    "def get_historic_price(symbol, exchange='bitfinex', after='2022-01-01'):\n",
    "    url='https://api.cryptowat.ch/markets/{exchange}/{symbol}usd/ohlc'.format(\n",
    "        symbol=symbol, exchange=exchange)\n",
    "    resp=requests.get(url, params={'periods':'3600',\n",
    "                                  'after':str(int(pd.Timestamp(after).timestamp()))\n",
    "                                  })\n",
    "    resp.raise_for_status()\n",
    "    data=resp.json()\n",
    "    df=pd.DataFrame(data['result']['3600'],columns=[\n",
    "        'CloseTime','OpenPrice', 'HighPrice', 'LowPrice', 'ClosePrice','Volume','NA'])\n",
    "    return df"
   ]
  },
  {
   "cell_type": "code",
   "execution_count": 32,
   "id": "93d11022",
   "metadata": {},
   "outputs": [
    {
     "data": {
      "text/html": [
       "<div>\n",
       "<style scoped>\n",
       "    .dataframe tbody tr th:only-of-type {\n",
       "        vertical-align: middle;\n",
       "    }\n",
       "\n",
       "    .dataframe tbody tr th {\n",
       "        vertical-align: top;\n",
       "    }\n",
       "\n",
       "    .dataframe thead th {\n",
       "        text-align: right;\n",
       "    }\n",
       "</style>\n",
       "<table border=\"1\" class=\"dataframe\">\n",
       "  <thead>\n",
       "    <tr style=\"text-align: right;\">\n",
       "      <th></th>\n",
       "      <th>CloseTime</th>\n",
       "      <th>OpenPrice</th>\n",
       "      <th>HighPrice</th>\n",
       "      <th>LowPrice</th>\n",
       "      <th>ClosePrice</th>\n",
       "      <th>Volume</th>\n",
       "      <th>NA</th>\n",
       "    </tr>\n",
       "  </thead>\n",
       "  <tbody>\n",
       "    <tr>\n",
       "      <th>0</th>\n",
       "      <td>1671289200</td>\n",
       "      <td>16675</td>\n",
       "      <td>16712</td>\n",
       "      <td>16654</td>\n",
       "      <td>16655</td>\n",
       "      <td>34.053215</td>\n",
       "      <td>5.680661e+05</td>\n",
       "    </tr>\n",
       "    <tr>\n",
       "      <th>1</th>\n",
       "      <td>1671292800</td>\n",
       "      <td>16657</td>\n",
       "      <td>16706</td>\n",
       "      <td>16656</td>\n",
       "      <td>16701</td>\n",
       "      <td>31.854484</td>\n",
       "      <td>5.315404e+05</td>\n",
       "    </tr>\n",
       "    <tr>\n",
       "      <th>2</th>\n",
       "      <td>1671296400</td>\n",
       "      <td>16706</td>\n",
       "      <td>16706</td>\n",
       "      <td>16684</td>\n",
       "      <td>16700</td>\n",
       "      <td>10.410284</td>\n",
       "      <td>1.738003e+05</td>\n",
       "    </tr>\n",
       "    <tr>\n",
       "      <th>3</th>\n",
       "      <td>1671300000</td>\n",
       "      <td>16701</td>\n",
       "      <td>16703</td>\n",
       "      <td>16662</td>\n",
       "      <td>16681</td>\n",
       "      <td>20.364783</td>\n",
       "      <td>3.395977e+05</td>\n",
       "    </tr>\n",
       "    <tr>\n",
       "      <th>4</th>\n",
       "      <td>1671303600</td>\n",
       "      <td>16679</td>\n",
       "      <td>16720</td>\n",
       "      <td>16670</td>\n",
       "      <td>16708</td>\n",
       "      <td>28.279033</td>\n",
       "      <td>4.724498e+05</td>\n",
       "    </tr>\n",
       "    <tr>\n",
       "      <th>...</th>\n",
       "      <td>...</td>\n",
       "      <td>...</td>\n",
       "      <td>...</td>\n",
       "      <td>...</td>\n",
       "      <td>...</td>\n",
       "      <td>...</td>\n",
       "      <td>...</td>\n",
       "    </tr>\n",
       "    <tr>\n",
       "      <th>163</th>\n",
       "      <td>1671876000</td>\n",
       "      <td>16831</td>\n",
       "      <td>16845</td>\n",
       "      <td>16823</td>\n",
       "      <td>16831</td>\n",
       "      <td>35.251605</td>\n",
       "      <td>5.933741e+05</td>\n",
       "    </tr>\n",
       "    <tr>\n",
       "      <th>164</th>\n",
       "      <td>1671879600</td>\n",
       "      <td>16830</td>\n",
       "      <td>16833</td>\n",
       "      <td>16825</td>\n",
       "      <td>16825</td>\n",
       "      <td>83.887099</td>\n",
       "      <td>1.411689e+06</td>\n",
       "    </tr>\n",
       "    <tr>\n",
       "      <th>165</th>\n",
       "      <td>1671883200</td>\n",
       "      <td>16825</td>\n",
       "      <td>16829</td>\n",
       "      <td>16821</td>\n",
       "      <td>16823</td>\n",
       "      <td>52.277811</td>\n",
       "      <td>8.795667e+05</td>\n",
       "    </tr>\n",
       "    <tr>\n",
       "      <th>166</th>\n",
       "      <td>1671886800</td>\n",
       "      <td>16821</td>\n",
       "      <td>16825</td>\n",
       "      <td>16817</td>\n",
       "      <td>16819</td>\n",
       "      <td>50.629242</td>\n",
       "      <td>8.515743e+05</td>\n",
       "    </tr>\n",
       "    <tr>\n",
       "      <th>167</th>\n",
       "      <td>1671890400</td>\n",
       "      <td>16820</td>\n",
       "      <td>16825</td>\n",
       "      <td>16813</td>\n",
       "      <td>16822</td>\n",
       "      <td>68.442329</td>\n",
       "      <td>1.151276e+06</td>\n",
       "    </tr>\n",
       "  </tbody>\n",
       "</table>\n",
       "<p>168 rows × 7 columns</p>\n",
       "</div>"
      ],
      "text/plain": [
       "      CloseTime  OpenPrice  HighPrice  LowPrice  ClosePrice     Volume  \\\n",
       "0    1671289200      16675      16712     16654       16655  34.053215   \n",
       "1    1671292800      16657      16706     16656       16701  31.854484   \n",
       "2    1671296400      16706      16706     16684       16700  10.410284   \n",
       "3    1671300000      16701      16703     16662       16681  20.364783   \n",
       "4    1671303600      16679      16720     16670       16708  28.279033   \n",
       "..          ...        ...        ...       ...         ...        ...   \n",
       "163  1671876000      16831      16845     16823       16831  35.251605   \n",
       "164  1671879600      16830      16833     16825       16825  83.887099   \n",
       "165  1671883200      16825      16829     16821       16823  52.277811   \n",
       "166  1671886800      16821      16825     16817       16819  50.629242   \n",
       "167  1671890400      16820      16825     16813       16822  68.442329   \n",
       "\n",
       "               NA  \n",
       "0    5.680661e+05  \n",
       "1    5.315404e+05  \n",
       "2    1.738003e+05  \n",
       "3    3.395977e+05  \n",
       "4    4.724498e+05  \n",
       "..            ...  \n",
       "163  5.933741e+05  \n",
       "164  1.411689e+06  \n",
       "165  8.795667e+05  \n",
       "166  8.515743e+05  \n",
       "167  1.151276e+06  \n",
       "\n",
       "[168 rows x 7 columns]"
      ]
     },
     "execution_count": 32,
     "metadata": {},
     "output_type": "execute_result"
    }
   ],
   "source": [
    "last_week=(pd.Timestamp.now()-pd.offsets.Day(7))\n",
    "last_week\n",
    "get_historic_price('btc', 'bitstamp', after=last_week)\n",
    "#get_historic_price(symbol, exchange='bitfinex', after='2018-09-01')"
   ]
  },
  {
   "cell_type": "code",
   "execution_count": 33,
   "id": "00306b5e",
   "metadata": {},
   "outputs": [
    {
     "data": {
      "text/plain": [
       "Timestamp('2022-12-24 14:44:30.008879')"
      ]
     },
     "execution_count": 33,
     "metadata": {},
     "output_type": "execute_result"
    }
   ],
   "source": [
    "pd.Timestamp.now()"
   ]
  },
  {
   "cell_type": "code",
   "execution_count": 34,
   "id": "211bb7bf",
   "metadata": {},
   "outputs": [
    {
     "data": {
      "text/plain": [
       "<7 * Days>"
      ]
     },
     "execution_count": 34,
     "metadata": {},
     "output_type": "execute_result"
    }
   ],
   "source": [
    "pd.offsets.Day(7)"
   ]
  },
  {
   "cell_type": "code",
   "execution_count": 35,
   "id": "1e86840f",
   "metadata": {},
   "outputs": [
    {
     "data": {
      "text/plain": [
       "Timestamp('2022-12-17 14:45:35.305853')"
      ]
     },
     "execution_count": 35,
     "metadata": {},
     "output_type": "execute_result"
    }
   ],
   "source": [
    "last_week=(pd.Timestamp.now()-pd.offsets.Day(7))\n",
    "last_week"
   ]
  },
  {
   "cell_type": "code",
   "execution_count": null,
   "id": "5ef39ef9",
   "metadata": {},
   "outputs": [],
   "source": []
  }
 ],
 "metadata": {
  "kernelspec": {
   "display_name": "Python 3 (ipykernel)",
   "language": "python",
   "name": "python3"
  },
  "language_info": {
   "codemirror_mode": {
    "name": "ipython",
    "version": 3
   },
   "file_extension": ".py",
   "mimetype": "text/x-python",
   "name": "python",
   "nbconvert_exporter": "python",
   "pygments_lexer": "ipython3",
   "version": "3.10.6"
  }
 },
 "nbformat": 4,
 "nbformat_minor": 5
}
